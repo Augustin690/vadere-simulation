{
 "cells": [
  {
   "cell_type": "code",
   "execution_count": 11,
   "id": "8ad508ac",
   "metadata": {},
   "outputs": [
    {
     "name": "stdout",
     "output_type": "stream",
     "text": [
      "Finished adding pedestrian. ID of the new pedestrian is 5\n"
     ]
    }
   ],
   "source": [
    "# Run the Python script to add a pedestrian to the specified scenario file\n",
    "\n",
    "!python add_pedestrian.py -s \"C:\\Users\\limen\\Desktop\\mlicms24ex2-groupf\\task3\\add_pedestrian\\scenario_6.scenario\" --x 11.5 --y 1.5 --targetID 3 --speed 0.5"
   ]
  },
  {
   "cell_type": "code",
   "execution_count": 12,
   "id": "01d25301",
   "metadata": {
    "scrolled": true
   },
   "outputs": [
    {
     "name": "stdout",
     "output_type": "stream",
     "text": [
      "WARNING: sun.reflect.Reflection.getCallerClass is not supported. This will impact performance.\n",
      "15:12:21,836   INFO ScenarioRunSubCommand:55 - Use output directory: C:\\Users\\limen\\Desktop\\mlicms24ex2-groupf\\task3\\add_pedestrian\n",
      "15:12:21,934   INFO JsonMigrationAssistant:83 - >> analyzing JSON tree of scenario <scenario_6 OSM>\n",
      "15:12:21,934   INFO JsonMigrationAssistant:103 - Nothing to do current version and target version match\n",
      "15:12:22,203   INFO VadereConfig:66 - Use config file from path C:\\Users\\limen\\.config\\vadere.conf\n",
      "15:12:22,290   INFO ScenarioCache:85 - Cache search location: C:\\Users\\limen\\Desktop\\mlicms24ex2-groupf\\task3\\add_pedestrian\\__cache__\n",
      "15:12:22,297   INFO ScenarioRun:147 - Initializing scenario: scenario_6 OSM...\n",
      "15:12:22,299   INFO ScenarioRun:128 - scenario context initialized.\n",
      "15:12:22,301   INFO ScenarioRun:229 - no mesh scenario_6 OSM.poly was found.\n",
      "15:12:22,301   INFO ScenarioRun:229 - no mesh scenario_6 OSM_background.poly was found.\n",
      "15:12:22,434   INFO PotentialFieldDistancesBruteForce:49 - solve floor field (PotentialFieldDistancesBruteForce)\n",
      "15:12:22,440   INFO PotentialFieldDistancesBruteForce:106 - Progress:  0% -> 0/17161 [points]\n",
      "15:12:22,459   INFO PotentialFieldDistancesBruteForce:106 - Progress: 10% -> 1717/17161 [points]\n",
      "15:12:22,468   INFO PotentialFieldDistancesBruteForce:106 - Progress: 20% -> 3433/17161 [points]\n",
      "15:12:22,480   INFO PotentialFieldDistancesBruteForce:106 - Progress: 30% -> 5149/17161 [points]\n",
      "15:12:22,485   INFO PotentialFieldDistancesBruteForce:106 - Progress: 40% -> 6865/17161 [points]\n",
      "15:12:22,493   INFO PotentialFieldDistancesBruteForce:106 - Progress: 50% -> 8581/17161 [points]\n",
      "15:12:22,498   INFO PotentialFieldDistancesBruteForce:106 - Progress: 60% -> 10297/17161 [points]\n",
      "15:12:22,503   INFO PotentialFieldDistancesBruteForce:106 - Progress: 70% -> 12013/17161 [points]\n",
      "15:12:22,507   INFO PotentialFieldDistancesBruteForce:106 - Progress: 80% -> 13729/17161 [points]\n",
      "15:12:22,512   INFO PotentialFieldDistancesBruteForce:106 - Progress: 90% -> 15445/17161 [points]\n",
      "15:12:22,518   INFO PotentialFieldDistancesBruteForce:96 - floor field initialization time:82[ms]\n",
      "15:12:22,523   INFO Topography:414 - Set PedestrianIdCount to start value: 6\n",
      "15:12:22,560   INFO EikonalSolverDefaultProvider:23 - floor field initialization time:21[ms]\n",
      "15:12:22,560   INFO Simulation:277 - preLoop finished.\n",
      "15:12:51,614   INFO OutputFile:109 - Absolute file nameC:\\Users\\limen\\Desktop\\mlicms24ex2-groupf\\task3\\add_pedestrian\\scenario_6 OSM_2024-05-12_15-12-22.296\\postvis.traj\n",
      "15:12:51,627   INFO OutputFile:109 - Absolute file nameC:\\Users\\limen\\Desktop\\mlicms24ex2-groupf\\task3\\add_pedestrian\\scenario_6 OSM_2024-05-12_15-12-22.296\\overlaps.csv\n",
      "15:12:51,628   INFO OutputFile:109 - Absolute file nameC:\\Users\\limen\\Desktop\\mlicms24ex2-groupf\\task3\\add_pedestrian\\scenario_6 OSM_2024-05-12_15-12-22.296\\overlapCount.txt\n",
      "15:12:51,629   INFO Simulation:251 - Finished writing all output files\n",
      "15:12:51,629   INFO Simulation:254 - Post-loop: before waitForTraci\n",
      "15:12:51,629   INFO Simulation:261 - Post-loop: finished.\n",
      "15:12:51,630   INFO ScenarioRun:207 - Simulation run finished.\n",
      "15:12:51,630   INFO ScenarioRun:265 - Simulation of scenario scenario_6 OSM finished.\n"
     ]
    },
    {
     "name": "stderr",
     "output_type": "stream",
     "text": [
      "5月 12, 2024 3:12:22 下午 org.apache.commons.beanutils.FluentPropertyBeanIntrospector introspect\n",
      "信息: Error when creating PropertyDescriptor for public final void org.apache.commons.configuration2.AbstractConfiguration.setProperty(java.lang.String,java.lang.Object)! Ignoring this property.\n",
      "SLF4J: Failed to load class \"org.slf4j.impl.StaticLoggerBinder\".\n",
      "SLF4J: Defaulting to no-operation (NOP) logger implementation\n",
      "SLF4J: See http://www.slf4j.org/codes.html#StaticLoggerBinder for further details.\n"
     ]
    }
   ],
   "source": [
    "# Execute the Vadere simulation using the modified scenario file\n",
    "\n",
    "!java -jar C:\\Users\\limen\\Desktop\\mlicms24ex2-groupf\\vadere.v3.0.windows\\\\vadere-console.jar scenario-run --scenario-file \"C:\\Users\\limen\\Desktop\\mlicms24ex2-groupf\\task3\\add_pedestrian\\scenario_6.scenario\" --output-dir \"C:\\Users\\limen\\Desktop\\mlicms24ex2-groupf\\task3\\add_pedestrian\""
   ]
  },
  {
   "cell_type": "code",
   "execution_count": null,
   "id": "89723066-a9a6-4ea4-bc16-1b4e6d0c7553",
   "metadata": {},
   "outputs": [],
   "source": []
  }
 ],
 "metadata": {
  "kernelspec": {
   "display_name": "Python 3 (ipykernel)",
   "language": "python",
   "name": "python3"
  },
  "language_info": {
   "codemirror_mode": {
    "name": "ipython",
    "version": 3
   },
   "file_extension": ".py",
   "mimetype": "text/x-python",
   "name": "python",
   "nbconvert_exporter": "python",
   "pygments_lexer": "ipython3",
   "version": "3.11.7"
  }
 },
 "nbformat": 4,
 "nbformat_minor": 5
}
